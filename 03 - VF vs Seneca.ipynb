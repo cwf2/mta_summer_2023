{
 "cells": [
  {
   "cell_type": "code",
   "execution_count": null,
   "id": "b9a33796",
   "metadata": {},
   "outputs": [],
   "source": [
    "from MyCapytain.resolvers.cts.api import HttpCtsResolver\n",
    "from MyCapytain.retrievers.cts5 import HttpCtsRetriever\n",
    "\n",
    "import spacy\n",
    "\n",
    "import pandas as pd\n",
    "from matplotlib import pyplot as plt"
   ]
  },
  {
   "cell_type": "code",
   "execution_count": null,
   "id": "39af5923",
   "metadata": {},
   "outputs": [],
   "source": [
    "LATIN_MODEL = 'la_core_web_sm'\n",
    "CTS_SERVER = 'https://scaife-cts.perseus.org/api/cts'"
   ]
  },
  {
   "cell_type": "code",
   "execution_count": null,
   "id": "2fa7b2fb",
   "metadata": {},
   "outputs": [],
   "source": [
    "cts_resolver = HttpCtsResolver(HttpCtsRetriever(CTS_SERVER))\n",
    "spacy_nlp = spacy.load(LATIN_MODEL)"
   ]
  },
  {
   "cell_type": "code",
   "execution_count": null,
   "id": "a13fc741",
   "metadata": {},
   "outputs": [],
   "source": [
    "texts = [\n",
    "    ('urn:cts:latinLit:phi1017.phi001', 'Seneca', 'Hercules Furens'),\n",
    "    ('urn:cts:latinLit:phi1017.phi009', 'Seneca', 'Hercules Oetaeus'),\n",
    "    ('urn:cts:latinLit:phi1017.phi004', 'Seneca', 'Medea'),\n",
    "    ('urn:cts:latinLit:phi1017.phi006', 'Seneca', 'Oedipus'),\n",
    "    ('urn:cts:latinLit:phi1017.phi005', 'Seneca', 'Phaedra'),\n",
    "    ('urn:cts:latinLit:phi1017.phi003', 'Seneca', 'Phoenissae'),\n",
    "    ('urn:cts:latinLit:phi1017.phi008', 'Seneca', 'Thyestes'),\n",
    "    ('urn:cts:latinLit:phi1017.phi002', 'Seneca', 'Troades',),\n",
    "    ('urn:cts:latinLit:phi1020.phi001:1', 'Statius', 'Thebaid_01'),\n",
    "    ('urn:cts:latinLit:phi1020.phi001:2', 'Statius', 'Thebaid_02'),\n",
    "    ('urn:cts:latinLit:phi1020.phi001:3', 'Statius', 'Thebaid_03'),\n",
    "    ('urn:cts:latinLit:phi1020.phi001:4', 'Statius', 'Thebaid_04'),\n",
    "    ('urn:cts:latinLit:phi1020.phi001:5', 'Statius', 'Thebaid_05'),\n",
    "    ('urn:cts:latinLit:phi1020.phi001:6', 'Statius', 'Thebaid_06'),\n",
    "    ('urn:cts:latinLit:phi1020.phi001:7', 'Statius', 'Thebaid_07'),\n",
    "    ('urn:cts:latinLit:phi1020.phi001:8', 'Statius', 'Thebaid_08'),\n",
    "    ('urn:cts:latinLit:phi1020.phi001:9', 'Statius', 'Thebaid_09'),\n",
    "    ('urn:cts:latinLit:phi1020.phi001:10', 'Statius', 'Thebaid_10'),\n",
    "    ('urn:cts:latinLit:phi1020.phi001:11', 'Statius', 'Thebaid_11'),\n",
    "    ('urn:cts:latinLit:phi1020.phi001:12', 'Statius', 'Thebaid_12'),\n",
    "]"
   ]
  },
  {
   "cell_type": "code",
   "execution_count": null,
   "id": "5c8c0542",
   "metadata": {},
   "outputs": [],
   "source": [
    "passages = []\n",
    "for urn, author, title in texts:\n",
    "    cts_passage = cts_resolver.getTextualNode(urn)\n",
    "    print(cts_passage)\n",
    "    passages.append(cts_passage)"
   ]
  }
 ],
 "metadata": {
  "kernelspec": {
   "display_name": "Python 3 (ipykernel)",
   "language": "python",
   "name": "python3"
  },
  "language_info": {
   "codemirror_mode": {
    "name": "ipython",
    "version": 3
   },
   "file_extension": ".py",
   "mimetype": "text/x-python",
   "name": "python",
   "nbconvert_exporter": "python",
   "pygments_lexer": "ipython3",
   "version": "3.10.11"
  }
 },
 "nbformat": 4,
 "nbformat_minor": 5
}

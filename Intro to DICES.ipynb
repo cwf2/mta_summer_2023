{
 "cells": [
  {
   "cell_type": "markdown",
   "id": "53a44f7b",
   "metadata": {},
   "source": [
    "## `import` statements\n",
    "\n",
    "This section loads ancillary code that isn't part of base Python."
   ]
  },
  {
   "cell_type": "code",
   "execution_count": 1,
   "id": "6003ba03",
   "metadata": {},
   "outputs": [],
   "source": [
    "# code related to DICES\n",
    "from dicesapi import DicesAPI\n",
    "from dicesapi.text import CtsAPI\n",
    "from dicesapi.jupyter import NotebookPBar\n",
    "\n",
    "# science and graphing tools\n",
    "import pandas as pd\n",
    "from matplotlib import pyplot as plt\n",
    "\n",
    "# generic utilities\n",
    "import re\n",
    "import os"
   ]
  },
  {
   "cell_type": "markdown",
   "id": "443d7c26",
   "metadata": {},
   "source": [
    "## Create connections to external data sources\n",
    "\n",
    "This section instantiates two important \"objects\" and saves them to variables for later use. One, `api` is a connection to the DICES database. We'll use this to download speech data. The other, `cts`, is a connection to the Perseus Digital Library. It will be used to download the actual text of the speeches once we know their beginning and ending loci."
   ]
  },
  {
   "cell_type": "code",
   "execution_count": 2,
   "id": "968d646d",
   "metadata": {},
   "outputs": [],
   "source": [
    "# connection to DICES\n",
    "api = DicesAPI(\n",
    "    logfile = 'dices.log',\n",
    "    progress_class = NotebookPBar,\n",
    ")\n",
    "\n",
    "# connection to Perseus\n",
    "cts = CtsAPI(\n",
    "    dices_api = api,\n",
    ")"
   ]
  },
  {
   "cell_type": "markdown",
   "id": "ce29671b",
   "metadata": {},
   "source": [
    "## Download all the speeches\n",
    "\n",
    "Here we download all the speeches from DICES using a single command. The resulting collection of data (we call it a SpeechGroup) is saved to a variable called `speeches`."
   ]
  },
  {
   "cell_type": "code",
   "execution_count": 3,
   "id": "8ee432e6",
   "metadata": {},
   "outputs": [
    {
     "data": {
      "application/vnd.jupyter.widget-view+json": {
       "model_id": "e0eed438a88047beb3ea4f3fe7e26e3a",
       "version_major": 2,
       "version_minor": 0
      },
      "text/plain": [
       "HBox(children=(IntProgress(value=0, bar_style='info', max=4691), Label(value='0/4691')))"
      ]
     },
     "metadata": {},
     "output_type": "display_data"
    }
   ],
   "source": [
    "speeches = api.getSpeeches(progress=True)"
   ]
  },
  {
   "cell_type": "markdown",
   "id": "4f06f296",
   "metadata": {},
   "source": [
    "## Select only the Latin speeches\n",
    "\n",
    "For now, let's look just at the Latin speeches. We can select a subset of `speeches` by using the `advancedFilter` method. This command takes as its argument a simple function definition. That function is then run on every one of the speeches in the SpeechGroup: any speeches for which the function returns `True` are selected; those for which it returns `False` are left behind.\n",
    "\n",
    "The function definition is created by the `lambda` keyword -- don't worry too much about the details, but basically the function we're creating here just returns `True` if the speech's `lang` tag is set to `'latin'` and `False` otherwise."
   ]
  },
  {
   "cell_type": "code",
   "execution_count": null,
   "id": "e7c0ef24",
   "metadata": {},
   "outputs": [],
   "source": [
    "latin_speeches = speeches.advancedFilter(lambda s: s.)"
   ]
  }
 ],
 "metadata": {
  "kernelspec": {
   "display_name": "Python 3 (ipykernel)",
   "language": "python",
   "name": "python3"
  },
  "language_info": {
   "codemirror_mode": {
    "name": "ipython",
    "version": 3
   },
   "file_extension": ".py",
   "mimetype": "text/x-python",
   "name": "python",
   "nbconvert_exporter": "python",
   "pygments_lexer": "ipython3",
   "version": "3.10.11"
  }
 },
 "nbformat": 4,
 "nbformat_minor": 5
}

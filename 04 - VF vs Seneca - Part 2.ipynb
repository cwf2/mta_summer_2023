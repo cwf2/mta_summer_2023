{
 "cells": [
  {
   "cell_type": "markdown",
   "id": "aeef4bb6",
   "metadata": {},
   "source": [
    "This notebook assumes that we've already run **VF vs Seneca - Part 1**. If you haven't already created `token_table.csv`, run that notebook first.\n",
    "\n",
    "## Getting started\n",
    "\n",
    "### `import` statements"
   ]
  },
  {
   "cell_type": "code",
   "execution_count": null,
   "id": "965c3edd",
   "metadata": {},
   "outputs": [],
   "source": [
    "import pandas as pd\n",
    "from matplotlib import pyplot as plt\n",
    "from sklearn.decomposition import PCA"
   ]
  },
  {
   "cell_type": "markdown",
   "id": "19753616",
   "metadata": {},
   "source": [
    "### Load the token table from Part 1\n",
    "\n",
    "Here we use Pandas to read in the CSV file that we exported at the end of the previous notebook."
   ]
  },
  {
   "cell_type": "code",
   "execution_count": null,
   "id": "71601b2b",
   "metadata": {},
   "outputs": [],
   "source": [
    "token_table = pd.read_csv('token_table.csv')\n",
    "display(token_table)"
   ]
  },
  {
   "cell_type": "markdown",
   "id": "48313a25",
   "metadata": {},
   "source": [
    "It looks more or less the same, except that where the previous table showed missing data as Python's special value `None`, we now see `NaN` (\"not a number\"), a value used by Pandas for the same purpose."
   ]
  },
  {
   "cell_type": "markdown",
   "id": "722a8d20",
   "metadata": {},
   "source": [
    "## Summarizing the data\n",
    "\n",
    "Let's look at a couple of simple summaries of the token table. Can we count the number of tokens used by each text? By each author?\n",
    "\n",
    "We'll use the Pandas `groupby()` method combined with `agg()` — i.e. \"aggregate\"."
   ]
  },
  {
   "cell_type": "code",
   "execution_count": null,
   "id": "d4146c18",
   "metadata": {},
   "outputs": [],
   "source": [
    "token_table.groupby(['author', 'title']).agg(count=('token', 'count'))"
   ]
  },
  {
   "cell_type": "code",
   "execution_count": null,
   "id": "04b9f262",
   "metadata": {},
   "outputs": [],
   "source": [
    "token_table.groupby(['author']).agg(count=('token', 'count'))"
   ]
  }
 ],
 "metadata": {
  "kernelspec": {
   "display_name": "Python 3 (ipykernel)",
   "language": "python",
   "name": "python3"
  },
  "language_info": {
   "codemirror_mode": {
    "name": "ipython",
    "version": 3
   },
   "file_extension": ".py",
   "mimetype": "text/x-python",
   "name": "python",
   "nbconvert_exporter": "python",
   "pygments_lexer": "ipython3",
   "version": "3.10.11"
  }
 },
 "nbformat": 4,
 "nbformat_minor": 5
}

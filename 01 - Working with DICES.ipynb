{
 "cells": [
  {
   "cell_type": "markdown",
   "id": "e8d9a20b",
   "metadata": {},
   "source": [
    "## Load the DICES client\n",
    "\n",
    "In order to talk to DICES, we first have to `import` the DICES client code."
   ]
  },
  {
   "cell_type": "code",
   "execution_count": null,
   "id": "65e55ea6",
   "metadata": {},
   "outputs": [],
   "source": [
    "from dicesapi import DicesAPI\n",
    "from dicesapi.jupyter import NotebookPBar"
   ]
  },
  {
   "cell_type": "markdown",
   "id": "7794d80f",
   "metadata": {},
   "source": [
    "## Create connections to external data sources\n",
    "\n",
    "In order to work with the DICES database via Python, the first step is to create a connection to DICES using the `DicesAPI()` command. This instantiates a custom Python **object** which holds information about the connection, for example what server we're using. We will assign the resulting object to a new variable, here called `api`."
   ]
  },
  {
   "cell_type": "code",
   "execution_count": null,
   "id": "f5023674",
   "metadata": {},
   "outputs": [],
   "source": [
    "api = DicesAPI(\n",
    "    logfile = 'dices.log',\n",
    "    progress_class = NotebookPBar,\n",
    ")"
   ]
  },
  {
   "cell_type": "markdown",
   "id": "ef62e0c1",
   "metadata": {},
   "source": [
    "## Make a request to the DICES database\n",
    "\n",
    "Now that we have a connection to the database, we can use it to make requests for data about speeches, works, authors, etc. Every time we make a request, we start by calling on the API object we have stored in the variable `api`. The various requests are invoked using **methods**, i.e. verbs that the API object knows how to perform. \n",
    "\n",
    "In Python, methods are joined to the name of the object that performs them with a dot. For example, to get a list of authors, we use `api.getAuthors()`."
   ]
  },
  {
   "cell_type": "code",
   "execution_count": null,
   "id": "6449bd1d",
   "metadata": {},
   "outputs": [],
   "source": [
    "api.getAuthors()"
   ]
  },
  {
   "cell_type": "markdown",
   "id": "4ed9f7de",
   "metadata": {},
   "source": [
    "🤔 Oops! We didn't tell Python what to do with the results of our request, so it just printed out a brief representation and then forgot about them. Let's try again, this time assigning the results to a new variable so we can use them."
   ]
  },
  {
   "cell_type": "code",
   "execution_count": null,
   "id": "5666bb05",
   "metadata": {},
   "outputs": [],
   "source": [
    "authors = api.getAuthors()"
   ]
  },
  {
   "cell_type": "markdown",
   "id": "22a26dcd",
   "metadata": {},
   "source": [
    "This time there's no output visible, because the results are saved under the new name `authors`.\n",
    "\n",
    "The results take the form of an AuthorGroup, a custom container that holds author records. \n",
    "\n",
    "#### Size\n",
    "\n",
    "We can see how many results are in the container using Python's `len()` function (i.e. \"length\")."
   ]
  },
  {
   "cell_type": "code",
   "execution_count": null,
   "id": "cfe4749c",
   "metadata": {},
   "outputs": [],
   "source": [
    "len(authors)"
   ]
  },
  {
   "cell_type": "markdown",
   "id": "2eb52aee",
   "metadata": {},
   "source": [
    "#### Iteration\n",
    "\n",
    "We can also iterate over the items in the container using a **`for` loop**. The first line of the loop defines a **loop variable**, here called `author`, which will be set to each of the author records in `authors` in turn. The indented lines of the loop will then be executed once for each author."
   ]
  },
  {
   "cell_type": "code",
   "execution_count": null,
   "id": "549d517a",
   "metadata": {},
   "outputs": [],
   "source": [
    "print(f\"Retrieved records for {len(authors)} authors:\")\n",
    "\n",
    "for author in authors:\n",
    "    print(\"  *\", author.name)"
   ]
  },
  {
   "cell_type": "markdown",
   "id": "4c3a0d36",
   "metadata": {},
   "source": [
    "## Retrieving speeches\n",
    "\n",
    "The most common request we make to the DICES database is for speeches. The method for retrieving speech records is `api.getSpeeches()`.\n",
    "\n",
    "### Specifying search parameters\n",
    "\n",
    "Instead of retrieving all the speeches in the database, we can specify some search parameters in the request. Search parameters go inside the parentheses. For example, let's download all the speeches by Poseidon. The parameter specifying the speaking character's name is `spkr_name`."
   ]
  },
  {
   "cell_type": "code",
   "execution_count": null,
   "id": "0d331b12",
   "metadata": {},
   "outputs": [],
   "source": [
    "# download speech records for Poseidon\n",
    "speeches = api.getSpeeches(spkr_name=\"Poseidon\")\n",
    "\n",
    "# print the number of results\n",
    "print(len(speeches), \"speeches retrieved.\")"
   ]
  },
  {
   "cell_type": "markdown",
   "id": "2311e7ae",
   "metadata": {},
   "source": [
    "Here are some useful search parameters:\n",
    "\n",
    "#### Speaker details\n",
    "- `spkr_name` name of the speaker\n",
    "- `spkr_gender` gender of the speaker (\"male\", \"female\", \"non-binary\", \"none\")\n",
    "- `spkr_being` entity type (\"mortal\", \"divine\", \"creature\", \"other\")\n",
    "- `spkr_number` (\"individual\", \"collective\")\n",
    "\n",
    "#### Addressee details\n",
    "\n",
    "- `addr_*` all of the above, but for addressee\n",
    "\n",
    "#### Poem details\n",
    "\n",
    "- `work_title`\n",
    "- `author_name`"
   ]
  },
  {
   "cell_type": "markdown",
   "id": "fc6c1117",
   "metadata": {},
   "source": [
    "## Properties of speeches\n",
    "\n",
    "Once you've downloaded some speech records, you can manipulate them and interrogate their **attributes**. A Python object's attributes are like nouns it possesses. Just like methods, attributes are accessed by using the object's name and a dot. For example, assuming you have a speech stored in the variable `speech`, its language is accessible as the attribute `speech.lang`"
   ]
  },
  {
   "cell_type": "code",
   "execution_count": null,
   "id": "432711ab",
   "metadata": {},
   "outputs": [],
   "source": [
    "# select the first item in speeches\n",
    "speech = speeches[0]\n",
    "\n",
    "# print its language\n",
    "print(speech.lang)"
   ]
  },
  {
   "cell_type": "markdown",
   "id": "90a693f9",
   "metadata": {},
   "source": [
    "### Some useful speech attributes\n",
    "\n",
    "- `lang` - language\n",
    "- `author` - author (Author object)\n",
    "- `work` - work (Work object)\n",
    "- `l_fi` - first line\n",
    "- `l_la` - last line\n",
    "- `l_range` - first and last lines joined by a hyphen\n",
    "- `spkr` - speaker(s) (list of CharacterInstance objects)\n",
    "- `addr` - addressee(s) (list of CharacterInstance objects)\n",
    "\n",
    "### ⚠️ `author` and `work` are themselves objects\n",
    "\n",
    "Some of the attributes listed above hold not just text but other objects. That means they can have their own attributes in turn.\n",
    "\n",
    "- For the author's name, use `author.name`\n",
    "- For the work title, use `work.title`\n",
    "\n",
    "#### Example\n",
    "\n",
    "Print the author, work, and line range for the first 5 speeches by Poseidon."
   ]
  },
  {
   "cell_type": "code",
   "execution_count": null,
   "id": "b9574978",
   "metadata": {},
   "outputs": [],
   "source": [
    "for speech in speeches[:5]:\n",
    "    print(speech.author.name, speech.work.title, speech.l_range)"
   ]
  },
  {
   "cell_type": "markdown",
   "id": "fba230a7",
   "metadata": {},
   "source": [
    "### ⚠️ `spkr` and `addr` are lists\n",
    "\n",
    "The `spkr` and `addr` attributes for a speech are always lists. Speeches often have more than one addressee, and a few speeches have more than one speaker. For the sake of consistency, we always represent these attributes as lists---if there's only one speaker, then `speech.spkr` will be a list of length 1.\n",
    "\n",
    "The items in these lists are **CharacterInstance** objects. We'll talk more about Character Instances below, but for now, let's note just that three attributes of a Character Instance are:\n",
    "\n",
    "- `name`\n",
    "- `gender` - options: `'male'`, `'female'`, `'non-binary'`, or `'none'`\n",
    "- `being` - options: `'mortal'`, `'divine'`, `'creature'`, or `'other'`\n",
    "\n",
    "#### Example\n",
    "\n",
    "Print the speaker(s) and addressee(s) for the first 5 speeches.\n",
    "\n",
    "💁🏻‍♂️ By now I have several things that I want to print out for each speech. As long as they're all inside the parens of the `print()` function, I can put them on separate lines to make the code easier to read."
   ]
  },
  {
   "cell_type": "code",
   "execution_count": null,
   "id": "4a1ac24a",
   "metadata": {},
   "outputs": [],
   "source": [
    "for speech in speeches[:5]:\n",
    "    print(\n",
    "        [inst.name for inst in speech.spkr],  # speaker list\n",
    "        [inst.name for inst in speech.addr],  # addressee list\n",
    "        speech.author.name,                   # author name\n",
    "        speech.work.title,                    # work title\n",
    "        speech.l_range,                       # line range\n",
    "    )"
   ]
  },
  {
   "cell_type": "markdown",
   "id": "33892ca9",
   "metadata": {},
   "source": [
    "In the example above, we used a Python idiom called **list comprehension** to extract just the `name` attribute of each character instance in the list. It's like a miniature `for` loop, where the variable `inst` takes the place of each element in turn.\n",
    "\n",
    "Because we left the speaker and addressee names in list format, they appear in square brackets in the output. Note that the third speech in the list actually has two addressees: the two Ajaxes.\n",
    "\n",
    "To make the output easier to read, we can squash the lists into text representations using the `str.join()` method. This uses a separator of our choosing to join a list of strings into one long string. Let's use a semi-colon."
   ]
  },
  {
   "cell_type": "code",
   "execution_count": null,
   "id": "d26fac37",
   "metadata": {},
   "outputs": [],
   "source": [
    "for speech in speeches[:5]:\n",
    "    print(\n",
    "        '; '.join(inst.name for inst in speech.spkr),   # speakers as string\n",
    "        '; '.join(inst.name for inst in speech.addr),   # addressees as string\n",
    "        speech.author.name,                             # author name\n",
    "        speech.work.title,                              # work title\n",
    "        speech.l_range                                  # line range\n",
    "    )"
   ]
  },
  {
   "cell_type": "markdown",
   "id": "b711f3f2",
   "metadata": {},
   "source": [
    "## Working with tabular data\n",
    "\n",
    "It's already getting a little hard to read the output now that we have multiple attributes for each speech. With a little extra code, we can format our results as tables using **Pandas**, an add-on package commonly used for data science in Python. \n",
    "\n",
    "### import pandas"
   ]
  },
  {
   "cell_type": "code",
   "execution_count": null,
   "id": "f30eb6d8",
   "metadata": {},
   "outputs": [],
   "source": [
    "import pandas as pd"
   ]
  },
  {
   "cell_type": "markdown",
   "id": "65f29465",
   "metadata": {},
   "source": [
    "### Re-write our loop to create rows in a table\n",
    "\n",
    "Pandas stores tabular data in objects called **DataFrames**. One easy way to create a DataFrame is by iterating over all the rows in the table. Each row can be thought of as a **dictionary**: the **keys** of the dictionary provide the column headings, and the **values** of the dictionary give the contents of the cells.\n",
    "\n",
    "Here, we re-write the `for` loop above, but instead of printing out each row, we append it to a list called `rows`. At the end, we instantiate a new DataFrame from the list of rows with `pd.DataFrame()`."
   ]
  },
  {
   "cell_type": "code",
   "execution_count": null,
   "id": "cf616de1",
   "metadata": {},
   "outputs": [],
   "source": [
    "# initialize an empty list\n",
    "rows = []\n",
    "\n",
    "# iterate over the speeches\n",
    "for speech in speeches[:5]:\n",
    "    \n",
    "    # create a new row as a dictionary\n",
    "    this_row = dict(\n",
    "        speaker = '; '.join(inst.name for inst in speech.spkr), \n",
    "        addressee = '; '.join(inst.name for inst in speech.addr),\n",
    "        author = speech.author.name,\n",
    "        work = speech.work.title,\n",
    "        loci = speech.l_range,\n",
    "    )\n",
    "    \n",
    "    # add to the list of rows\n",
    "    rows.append(this_row)\n",
    "    \n",
    "# create a new DataFrame\n",
    "pd.DataFrame(rows)"
   ]
  },
  {
   "cell_type": "markdown",
   "id": "9deb1934",
   "metadata": {},
   "source": [
    "### Again, but more concisely\n",
    "\n",
    "Often we can rephrase the construction of a DataFrame using list comprehension, in a kind of extended one-liner. The code below is equivalent to the previous example."
   ]
  },
  {
   "cell_type": "code",
   "execution_count": null,
   "id": "8c1c4f5f",
   "metadata": {},
   "outputs": [],
   "source": [
    "pd.DataFrame(dict(\n",
    "    speaker = '; '.join(inst.name for inst in speech.spkr), \n",
    "    addressee = '; '.join(inst.name for inst in speech.addr),\n",
    "    author = speech.author.name,\n",
    "    work = speech.work.title,\n",
    "    loci = speech.l_range,\n",
    ") for speech in speeches[:5])"
   ]
  },
  {
   "cell_type": "markdown",
   "id": "4f929e5e",
   "metadata": {},
   "source": [
    "### The full table\n",
    "\n",
    "Here are all 38 rows."
   ]
  },
  {
   "cell_type": "code",
   "execution_count": null,
   "id": "5eb51d71",
   "metadata": {},
   "outputs": [],
   "source": [
    "pd.DataFrame(dict(\n",
    "    speaker = '; '.join(inst.name for inst in speech.spkr), \n",
    "    addressee = '; '.join(inst.name for inst in speech.addr),\n",
    "    author = speech.author.name,\n",
    "    work = speech.work.title,\n",
    "    loci = speech.l_range,\n",
    ") for speech in speeches)"
   ]
  },
  {
   "cell_type": "markdown",
   "id": "9fcb95ce",
   "metadata": {},
   "source": [
    "### Export the table to Excel\n",
    "\n",
    "One common task is to move data from DICES to Excel. Pandas has a handy method for exporting Data Frames, `DatFrame.to_csv()`. It takes as an argument the name of the file you want to create.\n",
    "\n",
    "I've also added the `index=False` flag—this suppresses an optional first column containing row numbers."
   ]
  },
  {
   "cell_type": "code",
   "execution_count": null,
   "id": "23698baf",
   "metadata": {},
   "outputs": [],
   "source": [
    "# create a table and assign it to `df`\n",
    "df = pd.DataFrame(dict(\n",
    "    speaker = '; '.join(inst.name for inst in speech.spkr), \n",
    "    addressee = '; '.join(inst.name for inst in speech.addr),\n",
    "    author = speech.author.name,\n",
    "    work = speech.work.title,\n",
    "    loci = speech.l_range,\n",
    ") for speech in speeches)\n",
    "\n",
    "# export to csv file\n",
    "df.to_csv('poseidon.csv', index=False)"
   ]
  },
  {
   "cell_type": "markdown",
   "id": "c918a096",
   "metadata": {},
   "source": [
    "The code above should have written a new file to the directory containing this notebook. Take a look and see if it's there. Try importing it into Excel."
   ]
  },
  {
   "cell_type": "code",
   "execution_count": null,
   "id": "54f8cdfe",
   "metadata": {},
   "outputs": [],
   "source": []
  }
 ],
 "metadata": {
  "kernelspec": {
   "display_name": "Python 3 (ipykernel)",
   "language": "python",
   "name": "python3"
  },
  "language_info": {
   "codemirror_mode": {
    "name": "ipython",
    "version": 3
   },
   "file_extension": ".py",
   "mimetype": "text/x-python",
   "name": "python",
   "nbconvert_exporter": "python",
   "pygments_lexer": "ipython3",
   "version": "3.10.11"
  }
 },
 "nbformat": 4,
 "nbformat_minor": 5
}

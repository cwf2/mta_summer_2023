{
 "cells": [
  {
   "cell_type": "markdown",
   "id": "167939c1",
   "metadata": {},
   "source": [
    "## Getting ready"
   ]
  },
  {
   "cell_type": "markdown",
   "id": "790eb59e",
   "metadata": {},
   "source": [
    "### `import` statements\n",
    "\n",
    "Here we load functionality that isn't part of base Python from third-party packages. A couple of packages may look unfamiliar—in fact they're built into the DICES client, so we've been using them all along. But in this case we're not using DICES, so we have to import them explicitly.\n",
    "\n",
    "In particular, we're using [MyCapytain](https://github.com/Capitains/MyCapytain) to talk to the CTS endpoint of the Perseus Digital Library, and [SpaCy](https://spacy.io/) to perform NLP on the Latin texts."
   ]
  },
  {
   "cell_type": "code",
   "execution_count": null,
   "id": "b9a33796",
   "metadata": {},
   "outputs": [],
   "source": [
    "# provides CTS protocol\n",
    "from MyCapytain.resolvers.cts.api import HttpCtsResolver\n",
    "from MyCapytain.retrievers.cts5 import HttpCtsRetriever\n",
    "\n",
    "# provides support for regular expressions\n",
    "import re\n",
    "\n",
    "# provides natural language processing\n",
    "import spacy\n",
    "\n",
    "# provides structures for tabular data\n",
    "import pandas as pd"
   ]
  },
  {
   "cell_type": "markdown",
   "id": "21a28078",
   "metadata": {},
   "source": [
    "### Define constants\n",
    "\n",
    "These are settings that control the way the rest of the script works; I like to define them at the beginning and make them all capital letters so they're easy to see. If we decide to change them later—if we want to use a different language model or a different digital library—we know where to look.\n",
    "\n",
    "**language model**: In order to use SpaCy on our text, we need to plug in a trained language model. Here we're using one trained by Patrick Burns called `la_core_web_sm`. Patrick's [LatinCy](https://huggingface.co/latincy) project includes a full set of models with different strengths. I've chosen the smallest one to make this demo more accessible; if you want more accurate results, you'll have to install and load one of the larger models.\n",
    "\n",
    "**CTS endpoint**: This is the remote server that will receive our requests for Latin texts and, if all goes well, send those texts back to us. The one I've chosen is associated with Perseus 5; it's essentially a machine-oriented counterpart to the human-oriented interface called the [Scaife Viewer](https://scaife.perseus.org/)."
   ]
  },
  {
   "cell_type": "code",
   "execution_count": null,
   "id": "39af5923",
   "metadata": {},
   "outputs": [],
   "source": [
    "# language model\n",
    "LATIN_MODEL = 'la_core_web_sm'\n",
    "\n",
    "# CTS endpoint for Perseus\n",
    "CTS_SERVER = 'https://scaife-cts.perseus.org/api/cts'"
   ]
  },
  {
   "cell_type": "markdown",
   "id": "b1985e33",
   "metadata": {},
   "source": [
    "### Input data\n",
    "\n",
    "These are the texts I want to work with. Again, I'm putting them at the start of the script so that I can find and potentially change them later, depending on how the experiment works out. It might make even more sense—especially if there were more—to put them in a separate data file.\n",
    "\n",
    "Each row describes one text. The first column is the machine-readable CTS URN for the text. I got these by looking up the works in the [Perseus Catalog](https://catalog.perseus.org/). These URNs refer to the texts in the abstract, without specifying a particular edition. The CTS server will decide what edition to give me based on what it has available—to better control this experiment, I would use URNs for particular editions."
   ]
  },
  {
   "cell_type": "code",
   "execution_count": null,
   "id": "8836830e",
   "metadata": {},
   "outputs": [],
   "source": [
    "DATA = [\n",
    "    ('urn:cts:latinLit:phi1017.phi001',   'Seneca',   'Herc_Fur'),\n",
    "    ('urn:cts:latinLit:phi1017.phi009',   'Seneca',   'Herc_Oet'),\n",
    "    ('urn:cts:latinLit:phi1017.phi004',   'Seneca',   'Medea'),\n",
    "    ('urn:cts:latinLit:phi1017.phi006',   'Seneca',   'Oedipus'),\n",
    "    ('urn:cts:latinLit:phi1017.phi005',   'Seneca',   'Phaedra'),\n",
    "    ('urn:cts:latinLit:phi1017.phi003',   'Seneca',   'Phoenissae'),\n",
    "    ('urn:cts:latinLit:phi1017.phi008',   'Seneca',   'Thyestes'),\n",
    "    ('urn:cts:latinLit:phi1017.phi002',   'Seneca',   'Troades'),\n",
    "    ('urn:cts:latinLit:phi1035.phi001:1', 'Val_Flac', 'Thebaid_01'),\n",
    "    ('urn:cts:latinLit:phi1035.phi001:2', 'Val_Flac', 'Thebaid_02'),\n",
    "    ('urn:cts:latinLit:phi1035.phi001:3', 'Val_Flac', 'Thebaid_03'),\n",
    "    ('urn:cts:latinLit:phi1035.phi001:4', 'Val_Flac', 'Thebaid_04'),\n",
    "    ('urn:cts:latinLit:phi1035.phi001:5', 'Val_Flac', 'Thebaid_05'),\n",
    "    ('urn:cts:latinLit:phi1035.phi001:6', 'Val_Flac', 'Thebaid_06'),\n",
    "    ('urn:cts:latinLit:phi1035.phi001:7', 'Val_Flac', 'Thebaid_07'),\n",
    "    ('urn:cts:latinLit:phi1035.phi001:8', 'Val_Flac', 'Thebaid_08'),\n",
    "]"
   ]
  },
  {
   "cell_type": "markdown",
   "id": "23e075ce",
   "metadata": {},
   "source": [
    "### Read the data\n",
    "\n",
    "Here we'll read through the input data and create structured records for the texts. I'm going to use a dictionary to represent each one, so that all the information is clearly labelled, and so that it's easy to add new attributes to each record as we go along."
   ]
  },
  {
   "cell_type": "code",
   "execution_count": null,
   "id": "e765b204",
   "metadata": {},
   "outputs": [],
   "source": [
    "# create an empty list\n",
    "records = []\n",
    "\n",
    "# iterate over the data\n",
    "for row in DATA:\n",
    "    \n",
    "    # read in the information\n",
    "    urn, author, title = row\n",
    "    \n",
    "    # structure it as a dictionary\n",
    "    rec = dict(\n",
    "        urn = urn,\n",
    "        author = author,\n",
    "        title = title,\n",
    "    )\n",
    "    \n",
    "    # add it to the list\n",
    "    records.append(rec)"
   ]
  },
  {
   "cell_type": "markdown",
   "id": "a7d4cb86",
   "metadata": {},
   "source": [
    "#### Did it work?\n",
    "\n",
    "Let's print them all out, just to check that it worked. Since they're dictionaries, we can wrap the in a Pandas data frame for a nicely formatted table."
   ]
  },
  {
   "cell_type": "code",
   "execution_count": null,
   "id": "ba26c7bf",
   "metadata": {},
   "outputs": [],
   "source": [
    "pd.DataFrame(records)"
   ]
  },
  {
   "cell_type": "markdown",
   "id": "4f0435ff",
   "metadata": {},
   "source": [
    "### Initialize CTS connection\n",
    "\n",
    "Here we use MyCapytain to create a connection to the CTS server and assign it to a name so we can use it later."
   ]
  },
  {
   "cell_type": "code",
   "execution_count": null,
   "id": "a8f5d9c2",
   "metadata": {},
   "outputs": [],
   "source": [
    "cts_resolver = HttpCtsResolver(HttpCtsRetriever(CTS_SERVER))"
   ]
  },
  {
   "cell_type": "markdown",
   "id": "aa06f82d",
   "metadata": {},
   "source": [
    "### Initialize SpaCy\n",
    "\n",
    "Here we load the Latin language model and create a new instance of SpaCy's NLP processing pipeline. Once again, we need to assign this to a name so that we can use it later to process the texts."
   ]
  },
  {
   "cell_type": "code",
   "execution_count": null,
   "id": "2fa7b2fb",
   "metadata": {},
   "outputs": [],
   "source": [
    "spacy_nlp = spacy.load(LATIN_MODEL)"
   ]
  },
  {
   "cell_type": "markdown",
   "id": "0c3aa3f9",
   "metadata": {},
   "source": [
    "## Downloading and processing the texts\n",
    "\n",
    "### Download the texts from Perseus\n",
    "\n",
    "Here we iterate over all our records and use `cts_resolver`, the connection to Perseus that we initialized above, to request each text in turn by its URN. The method `getTextualNode()` makes the request for text."
   ]
  },
  {
   "cell_type": "code",
   "execution_count": null,
   "id": "5c8c0542",
   "metadata": {},
   "outputs": [],
   "source": [
    "# iterate over the records and count them off\n",
    "for i, rec in enumerate(records):\n",
    "    \n",
    "    # show progress\n",
    "    print(f'[{i+1}/{len(records)}]', end=' ')\n",
    "    \n",
    "    # try to download the text by urn\n",
    "    cts_passage = cts_resolver.getTextualNode(rec['urn'])\n",
    "    \n",
    "    # see whether it worked\n",
    "    if cts_passage is not None:\n",
    "        print(len(cts_passage.text), 'bytes')\n",
    "    else:\n",
    "        print('failed')\n",
    "        \n",
    "    # add to the record\n",
    "    rec['cts'] = cts_passage"
   ]
  },
  {
   "cell_type": "markdown",
   "id": "2cc68641",
   "metadata": {},
   "source": [
    "### Inspect the results\n",
    "\n",
    "Let's take a look at what we got. We'll start by examining the first play, *Hercules Furens*."
   ]
  },
  {
   "cell_type": "code",
   "execution_count": null,
   "id": "3917bb43",
   "metadata": {},
   "outputs": [],
   "source": [
    "# select the first record\n",
    "rec = records[0]"
   ]
  },
  {
   "cell_type": "markdown",
   "id": "46f1146c",
   "metadata": {},
   "source": [
    "What did Perseus give us? The results of our request are stored under the key `cts`. Let's just print it to the screen:"
   ]
  },
  {
   "cell_type": "code",
   "execution_count": null,
   "id": "2653dcca",
   "metadata": {},
   "outputs": [],
   "source": [
    "print(rec['cts'])"
   ]
  },
  {
   "cell_type": "markdown",
   "id": "751174f7",
   "metadata": {},
   "source": [
    "By default, it's represented as **TEI XML**. In fact, what we have is a somewhat complicated Python object, with a number of attributes and methods attached to it. One simple attribute is `text`, which gives us just the text of the passage, without the XML markup:"
   ]
  },
  {
   "cell_type": "code",
   "execution_count": null,
   "id": "1fdc3b31",
   "metadata": {},
   "outputs": [],
   "source": [
    "print(rec['cts'].text)"
   ]
  },
  {
   "cell_type": "markdown",
   "id": "fc39b7cc",
   "metadata": {},
   "source": [
    "Now all the tags are gone and we're looking at Latin. But there's still some extra material here.\n",
    "- For one thing, the front matter is included—the title of the book, some information about who encoded it, etc. \n",
    "- For another, if you look closely, you'll see that the speaker names are also included. This edition is formatted the way we would a modern play, with each speaker identified at the beginning of their lines. So you see abbreviated names (**Amph.**, **Meg.**, etc.) peppered throughout the text.\n",
    "\n",
    "I wonder if there's an easy way to exclude these.\n",
    "\n",
    "#### TEI XML\n",
    "\n",
    "Look back at the XML above for a moment. Notice that each line of the text is enclosed by `<l></l>` tags. The speaker names, on the other hand, are in `<speaker></speaker>` tags, outside of the `<l></l>`. Each group of consecutive lines spoken by one character is enclosed in `<sp></sp>`. For example:\n",
    "\n",
    "```xml\n",
    "<sp who=\"#megara\">\n",
    "    <speaker>Meg.</speaker>\n",
    "    <l n=\"313b\" part=\"F\">Quod nimis miseri volunt</l>\n",
    "    <l n=\"314\" part=\"I\">hoc facile credunt,</l>\n",
    "</sp>\n",
    "```\n",
    "\n",
    "It looks like metrical lines that are broken across multiple speakers are being handled in a somewhat complicated way, here, but luckily that's not our concern for the moment.\n",
    "\n",
    "#### Selecting certain XML elements\n",
    "\n",
    "For our purposes, I think that if we could extract only the `<l></l>` elements, we would have all the Latin words of the play and none, or at least much less, of the paratext.\n",
    "\n",
    "Luckily, the CTS object that we got from MyCapytains has an `xml` attribute that exposes the underlying XML structure, and Python tools exist to help us traverse that structure using [XPath](https://en.wikipedia.org/wiki/XPath), a language for describing XML. \n",
    "\n",
    "In brief, the XPath expression referring to \"all the <l> elements at any level of the current document\" is `'.//l'`. We can use this with the `findall()` method to pull out a list of all the lines.\n",
    "    \n",
    "**Caveat**: this is slightly complicated by the fact that this XML uses **namespaces**, a set of prefixes that qualify certain tags. So we need to pull the namespace map from the document first and feed that back into our `findall()` in order to get the tags we want."
   ]
  },
  {
   "cell_type": "code",
   "execution_count": null,
   "id": "3d6fbc74",
   "metadata": {},
   "outputs": [],
   "source": [
    "# first retrieve the namespaces for this document\n",
    "ns = rec['cts'].xml.nsmap\n",
    "\n",
    "# now search for <l> tags\n",
    "lines = rec['cts'].xml.findall('.//l', namespaces=ns)"
   ]
  },
  {
   "cell_type": "markdown",
   "id": "733ef05c",
   "metadata": {},
   "source": [
    "#### Did it work?\n",
    "\n",
    "Let's print out all the `<l></l>` elements we pulled from *Hercules Furens*, to see whether the results look like what we want.\n",
    "\n",
    "Each line has its line number recorded as an XML **attribute** called `n`, as in `<l n=\"313b\">` above. We can access these using the `get()` method of each line. Then we'll get the text of each line using `.text`, just as we did for the document as a whole earlier."
   ]
  },
  {
   "cell_type": "code",
   "execution_count": null,
   "id": "2674e8d0",
   "metadata": {},
   "outputs": [],
   "source": [
    "for l in lines:\n",
    "    print(l.get('n'), l.text)"
   ]
  },
  {
   "cell_type": "markdown",
   "id": "63ee82ee",
   "metadata": {},
   "source": [
    "Hooray—the text looks much cleaner than before!\n",
    "\n",
    "### Join the lines into a single string\n",
    "\n",
    "Perhaps for some future work we'll want all the lines individually like this, but for now I'm going to paste them all together. We'll use Python's `str.join()` method and a list comprehension. To make the text easier for humans to read, I'm going to join on the newline; I don't think SpaCy will mind."
   ]
  },
  {
   "cell_type": "code",
   "execution_count": null,
   "id": "9e98d7e9",
   "metadata": {
    "scrolled": true
   },
   "outputs": [],
   "source": [
    "print('\\n'.join([l.text for l in lines]))"
   ]
  },
  {
   "cell_type": "markdown",
   "id": "1a6afb39",
   "metadata": {},
   "source": [
    "🤔 Oops—at least some of the lines have no text, it seems. That probably deserves some investigation, but for now I'm just going to leave those ones out by adding an `if` clause to the end of my list comprehension."
   ]
  },
  {
   "cell_type": "code",
   "execution_count": null,
   "id": "dadc8350",
   "metadata": {},
   "outputs": [],
   "source": [
    "print('\\n'.join([l.text for l in lines if l.text is not None]))"
   ]
  },
  {
   "cell_type": "markdown",
   "id": "8edad3d9",
   "metadata": {},
   "source": [
    "### What about Valerius Flaccus?\n",
    "\n",
    "Now that I'm pretty sure I've got a method that works for Seneca's tragedies, what about the epic texts? Let's look at book 1 of the *Argonautica* to see whether the XML is laid out in a similar fashion."
   ]
  },
  {
   "cell_type": "code",
   "execution_count": null,
   "id": "ee9f5bd9",
   "metadata": {},
   "outputs": [],
   "source": [
    "rec = records[8]\n",
    "print(rec['cts'])"
   ]
  },
  {
   "cell_type": "markdown",
   "id": "7951785c",
   "metadata": {},
   "source": [
    "At a glance, it looks like all the verse lines are enclosed in `<l></l>` tags, just as in Seneca. One thing that stands out to me is that there seem to be a lot of `<note></note>` elements throughout the text. We'll have to see how those affect results.\n",
    "\n",
    "Let's try iterating over all the lines using the same method we used for Seneca and see what we get."
   ]
  },
  {
   "cell_type": "code",
   "execution_count": null,
   "id": "c72100b7",
   "metadata": {},
   "outputs": [],
   "source": [
    "ns = rec['cts'].xml.nsmap\n",
    "lines = rec['cts'].xml.findall('.//l', namespaces=ns)\n",
    "\n",
    "for l in lines:\n",
    "    print(l.get('n'), l.text)"
   ]
  },
  {
   "cell_type": "markdown",
   "id": "a5c8f3c1",
   "metadata": {},
   "source": [
    "🤔 Hmm... I don't see any obvious intrusion from the `<note></note>` elements, but there are some weirdly short lines here, and at least one `None`. I think I'd better look at the XML and just see what's going on here.\n",
    "\n",
    "What's up with line 13, for example? Here's how it appears in the [Scaife Viewer](https://scaife.perseus.org/reader/urn:cts:latinLit:phi1035.phi001.perseus-lat2:1.1-1.30/):"
   ]
  },
  {
   "cell_type": "markdown",
   "id": "1e3ec874",
   "metadata": {},
   "source": [
    "<img width=\"400\" src=\"data:image/png;base64,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\">"
   ]
  },
  {
   "cell_type": "markdown",
   "id": "0534ac50",
   "metadata": {},
   "source": [
    "We're clearly missing text—it seems that everything after the first `<note></note>` in a line is being lost using our current method.\n",
    "\n",
    "### A slightly more sophisticated method for extracting text\n",
    "\n",
    "It looks like simply using the `l.text` attribute is not going to work for us. We're going to have to do two things.\n",
    "\n",
    "- We're going to have to remove `<note></note>` elements from the `<l></l>` before extracting text\n",
    "- We're going to have to put back the following (*[tail](https://docs.python.org/3/library/xml.etree.elementtree.html#xml.etree.ElementTree.Element.tail)*) text after each `<note></note>`.\n",
    "\n",
    "For the sake of brevity, here's the way we do it inside the DICES client. The steps are complicated enough that I'm going to wrap the whole thing in a **function definition**: I'm giving this code a name so that I can reuse it later, just like Python's built-in functions."
   ]
  },
  {
   "cell_type": "code",
   "execution_count": null,
   "id": "8cdf4258",
   "metadata": {},
   "outputs": [],
   "source": [
    "def cleanLine(l):\n",
    "    '''Extract the text of a TEI line element'''\n",
    "    \n",
    "    # look for notes\n",
    "    for note in l.findall('note', namespaces=l.nsmap):\n",
    "        \n",
    "        # remove, keeping tail text\n",
    "        note.clear(keep_tail=True)\n",
    "    \n",
    "    # paste together all text elements in the line\n",
    "    text = ' '.join(l.itertext())\n",
    "    \n",
    "    # get rid of any extra whitespace\n",
    "    text = text.strip()\n",
    "    text = re.sub(r'\\s+', ' ', text)\n",
    "    \n",
    "    # return the result\n",
    "    return text"
   ]
  },
  {
   "cell_type": "markdown",
   "id": "81132e9f",
   "metadata": {},
   "source": [
    "Let's try it out:"
   ]
  },
  {
   "cell_type": "code",
   "execution_count": null,
   "id": "023ea503",
   "metadata": {},
   "outputs": [],
   "source": [
    "ns = rec['cts'].xml.nsmap\n",
    "lines = rec['cts'].xml.findall('.//l', namespaces=ns)\n",
    "\n",
    "for l in lines:    \n",
    "    print(l.get('n'), cleanLine(l))"
   ]
  },
  {
   "cell_type": "markdown",
   "id": "2d9886d9",
   "metadata": {},
   "source": [
    "🎉 Huzzah! This looks pretty good to me. Line 45 is missing—I took a look [on Perseus](https://scaife.perseus.org/reader/urn:cts:latinLit:phi1035.phi001.perseus-lat2:1.31-1.60) and it appears as an elipsis there, too. In the XML, it looks like this:\n",
    "\n",
    "```xml\n",
    "<l n=\"45\"><gap reason=\"omitted\"/></l>\n",
    "```\n",
    "\n",
    "So I think things are working the way they should here.\n",
    "\n",
    "\n",
    "### Extract the text of all the works\n",
    "\n",
    "Now we can go through the whole list of records and extract just the text, using our newly-refined method. It took some time to get here, but it was worth it! Now we don't have extra stuff in the output, nor are we missing words that should be there."
   ]
  },
  {
   "cell_type": "code",
   "execution_count": null,
   "id": "72586055",
   "metadata": {},
   "outputs": [],
   "source": [
    "# iterate over the records and count them off\n",
    "for i, rec in enumerate(records):\n",
    "    \n",
    "    # show progress\n",
    "    print(f'[{i+1}/{len(records)}]', end=' ')\n",
    "    \n",
    "    # get the namespaces\n",
    "    ns = rec['cts'].xml.nsmap\n",
    "    \n",
    "    # get the lines\n",
    "    lines = rec['cts'].xml.findall('.//l', namespaces=ns)\n",
    "    \n",
    "    # extract the text and paste together\n",
    "    text = '\\n'.join(cleanLine(l) for l in lines)\n",
    "    \n",
    "    # print a status message\n",
    "    print(len(text), 'bytes')\n",
    "    \n",
    "    # add to record\n",
    "    rec['text'] = text"
   ]
  },
  {
   "cell_type": "markdown",
   "id": "2629b125",
   "metadata": {},
   "source": [
    "### Process the text with SpaCy\n",
    "\n",
    "Now that we have the text, we can run NLP with SpaCy. Let's try *Hercules Furens* first, to see how it goes."
   ]
  },
  {
   "cell_type": "code",
   "execution_count": null,
   "id": "fdcfde7a",
   "metadata": {},
   "outputs": [],
   "source": [
    "# select the first record\n",
    "rec = records[0]\n",
    "\n",
    "# run spacy on the text\n",
    "spacy_doc = spacy_nlp(rec['text'])"
   ]
  },
  {
   "cell_type": "markdown",
   "id": "bf94bb79",
   "metadata": {},
   "source": [
    "### Did it work?\n",
    "\n",
    "Let's look at the first couple of tokens just to see whether the results make sense."
   ]
  },
  {
   "cell_type": "code",
   "execution_count": null,
   "id": "091fcab5",
   "metadata": {},
   "outputs": [],
   "source": [
    "# iterate over 25 tokens\n",
    "for i, token in enumerate(spacy_doc[:25]):\n",
    "    print(i, token)"
   ]
  },
  {
   "cell_type": "markdown",
   "id": "289340a2",
   "metadata": {},
   "source": [
    "🤔 Hmm... Looks like I was overly optimistic in assuming SpaCy would ignore the line breaks. I'm not sure whether it's really a problem for them to be counted as tokens. Let's poke a little further: what part of speech tag is SpaCy assigning to the line break tokens?"
   ]
  },
  {
   "cell_type": "code",
   "execution_count": null,
   "id": "a529d276",
   "metadata": {},
   "outputs": [],
   "source": [
    "# iterate over 25 tokens\n",
    "for i, token in enumerate(spacy_doc[:25]):\n",
    "    print(i, token, token.pos_)"
   ]
  },
  {
   "cell_type": "markdown",
   "id": "5366cc07",
   "metadata": {},
   "source": [
    "🤔 No, this is no good. It's assigning different POS tags to the line breaks depending on what the surrounding tokens are. That is going to produce unpredictable results.\n",
    "\n",
    "I'm going to replace all the linebreaks with spaces and re-run SpaCy."
   ]
  },
  {
   "cell_type": "code",
   "execution_count": null,
   "id": "86e8c166",
   "metadata": {},
   "outputs": [],
   "source": [
    "# replace newlines with spaces\n",
    "text = rec['text'].replace('\\n', ' ')\n",
    "\n",
    "# run spacy on the text\n",
    "spacy_doc = spacy_nlp(text)"
   ]
  },
  {
   "cell_type": "markdown",
   "id": "f4dadee2",
   "metadata": {},
   "source": [
    "Now what do the tokens look like?"
   ]
  },
  {
   "cell_type": "code",
   "execution_count": null,
   "id": "d70ab42c",
   "metadata": {},
   "outputs": [],
   "source": [
    "# iterate over 25 tokens\n",
    "for i, token in enumerate(spacy_doc[:25]):\n",
    "    print(i, token, token.pos_)"
   ]
  },
  {
   "cell_type": "markdown",
   "id": "09b33455",
   "metadata": {},
   "source": [
    "I like that much better. Let's go ahead and do all the texts"
   ]
  },
  {
   "cell_type": "markdown",
   "id": "f230667b",
   "metadata": {},
   "source": [
    "### Process the text with SpaCy\n",
    "\n",
    "Now we run NLP on each text in turn. This will create a SpaCy Doc object—we can treat it like a container of tokens. We'll use the same loop structure to process all the records, run SpaCy, and then save the results."
   ]
  },
  {
   "cell_type": "code",
   "execution_count": null,
   "id": "87ccb489",
   "metadata": {},
   "outputs": [],
   "source": [
    "# iterate over the records and count them off\n",
    "for i, rec in enumerate(records):\n",
    "    \n",
    "    # show progress\n",
    "    print(f'[{i+1}/{len(records)}]', end=' ')\n",
    "        \n",
    "    # remove newlines\n",
    "    text = rec['text'].replace('\\n', ' ')\n",
    "        \n",
    "    # run spacy\n",
    "    spacy_doc = spacy_nlp(text)\n",
    "    \n",
    "    # print status\n",
    "    print(len(spacy_doc), 'tokens')\n",
    "    \n",
    "    # save to record\n",
    "    rec['spacy_doc'] = spacy_doc"
   ]
  },
  {
   "cell_type": "markdown",
   "id": "7fcb6e83",
   "metadata": {},
   "source": [
    "### Create a table\n",
    "\n",
    "Now that we've tokenized all the texts, we can generate a giant table with one row per token, and one column for every feature we might be interested in.\n",
    "\n",
    "\n",
    "#### Generate a list of rows as dictionaries\n",
    "\n",
    "We'll create one row for every token using nested **for loop**: in the outer loop we iterate over all the records, and then for each record, we iterate over all the tokens in an inner loop."
   ]
  },
  {
   "cell_type": "code",
   "execution_count": null,
   "id": "4dd97d6e",
   "metadata": {},
   "outputs": [],
   "source": [
    "# start with an empty list\n",
    "rows = []\n",
    "\n",
    "# iterate over all the records\n",
    "for rec in records:\n",
    "        \n",
    "    # iterate over all the tokens\n",
    "    for token in rec['spacy_doc']:\n",
    "        \n",
    "        # extract morphological features\n",
    "        features = token.morph.to_dict()\n",
    "        \n",
    "        # create a new row\n",
    "        row = dict(\n",
    "            \n",
    "            # text info\n",
    "            urn = rec['urn'],\n",
    "            author = rec['author'],\n",
    "            title = rec['title'],\n",
    "            \n",
    "            # token info\n",
    "            token = token.text,\n",
    "            lemma = token.lemma_,\n",
    "            upos = token.pos_,\n",
    "            \n",
    "            # specific morphological features\n",
    "            mood = features.get('Mood'),\n",
    "            tense = features.get('Tense'),\n",
    "            voice = features.get('Voice'),\n",
    "            person = features.get('Person'),\n",
    "            number = features.get('Number'),\n",
    "            case = features.get('Case'),\n",
    "            gender = features.get('Gender'),\n",
    "        )\n",
    "        \n",
    "        # add row to list\n",
    "        rows.append(row)"
   ]
  },
  {
   "cell_type": "markdown",
   "id": "de1961e8",
   "metadata": {},
   "source": [
    "#### Make the table with Pandas"
   ]
  },
  {
   "cell_type": "code",
   "execution_count": null,
   "id": "0e07a355",
   "metadata": {},
   "outputs": [],
   "source": [
    "table = pd.DataFrame(rows)\n",
    "display(table)"
   ]
  },
  {
   "cell_type": "markdown",
   "id": "cdc561c9",
   "metadata": {},
   "source": [
    "#### Export to CSV"
   ]
  },
  {
   "cell_type": "code",
   "execution_count": null,
   "id": "2214c029",
   "metadata": {},
   "outputs": [],
   "source": [
    "table.to_csv('token_table.csv', index=False)"
   ]
  }
 ],
 "metadata": {
  "kernelspec": {
   "display_name": "Python 3 (ipykernel)",
   "language": "python",
   "name": "python3"
  },
  "language_info": {
   "codemirror_mode": {
    "name": "ipython",
    "version": 3
   },
   "file_extension": ".py",
   "mimetype": "text/x-python",
   "name": "python",
   "nbconvert_exporter": "python",
   "pygments_lexer": "ipython3",
   "version": "3.10.11"
  }
 },
 "nbformat": 4,
 "nbformat_minor": 5
}
